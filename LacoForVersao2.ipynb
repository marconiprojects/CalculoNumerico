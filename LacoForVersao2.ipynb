{
  "nbformat": 4,
  "nbformat_minor": 0,
  "metadata": {
    "colab": {
      "name": "LacoForVersao2.ipynb",
      "provenance": [],
      "authorship_tag": "ABX9TyNZfVAoUTUwInPtq5/Cd2Xw",
      "include_colab_link": true
    },
    "kernelspec": {
      "name": "python3",
      "display_name": "Python 3"
    },
    "language_info": {
      "name": "python"
    }
  },
  "cells": [
    {
      "cell_type": "markdown",
      "metadata": {
        "id": "view-in-github",
        "colab_type": "text"
      },
      "source": [
        "<a href=\"https://colab.research.google.com/github/marconiprojects/CalculoNumerico/blob/main/LacoForVersao2.ipynb\" target=\"_parent\"><img src=\"https://colab.research.google.com/assets/colab-badge.svg\" alt=\"Open In Colab\"/></a>"
      ]
    },
    {
      "cell_type": "code",
      "execution_count": 1,
      "metadata": {
        "colab": {
          "base_uri": "https://localhost:8080/"
        },
        "id": "qQkprhj2Q6AY",
        "outputId": "38f4ba9c-da4b-4d9e-8d09-3b4edf1d6b0f"
      },
      "outputs": [
        {
          "output_type": "stream",
          "name": "stdout",
          "text": [
            "0\n",
            "4\n",
            "8\n",
            "12\n",
            "16\n"
          ]
        }
      ],
      "source": [
        "# impressao de numeros entre a 0 e 20, em intervalos de 4 unidades\n",
        "for x in range(0, 20, 4):\n",
        "  print(x)"
      ]
    }
  ]
}