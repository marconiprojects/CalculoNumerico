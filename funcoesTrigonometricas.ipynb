{
  "nbformat": 4,
  "nbformat_minor": 0,
  "metadata": {
    "colab": {
      "name": "funcoesTrigonometricas.ipynb",
      "provenance": [],
      "authorship_tag": "ABX9TyPDCDTpoiBfg0RPsexgtr8h",
      "include_colab_link": true
    },
    "kernelspec": {
      "name": "python3",
      "display_name": "Python 3"
    },
    "language_info": {
      "name": "python"
    }
  },
  "cells": [
    {
      "cell_type": "markdown",
      "metadata": {
        "id": "view-in-github",
        "colab_type": "text"
      },
      "source": [
        "<a href=\"https://colab.research.google.com/github/marconiprojects/CalculoNumerico/blob/main/funcoesTrigonometricas.ipynb\" target=\"_parent\"><img src=\"https://colab.research.google.com/assets/colab-badge.svg\" alt=\"Open In Colab\"/></a>"
      ]
    },
    {
      "cell_type": "code",
      "execution_count": null,
      "metadata": {
        "colab": {
          "base_uri": "https://localhost:8080/"
        },
        "id": "RtXLQohTpgh_",
        "outputId": "d1907b09-ee40-4f1d-9a9c-5338152ee9b2"
      },
      "outputs": [
        {
          "output_type": "stream",
          "name": "stdout",
          "text": [
            "0.7071067811865476\n",
            "0.7853981633974483\n"
          ]
        }
      ],
      "source": [
        "import math\n",
        "\n",
        "x=math.sqrt(2)/2\n",
        "print(x)\n",
        "\n",
        "y=math.acos(x)\n",
        "print(y)"
      ]
    }
  ]
}