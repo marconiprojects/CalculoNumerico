{
  "nbformat": 4,
  "nbformat_minor": 0,
  "metadata": {
    "colab": {
      "name": "desvioCondicional.ipynb",
      "provenance": [],
      "authorship_tag": "ABX9TyNYgfahVnVLrGu5oGC2hDXe",
      "include_colab_link": true
    },
    "kernelspec": {
      "name": "python3",
      "display_name": "Python 3"
    },
    "language_info": {
      "name": "python"
    }
  },
  "cells": [
    {
      "cell_type": "markdown",
      "metadata": {
        "id": "view-in-github",
        "colab_type": "text"
      },
      "source": [
        "<a href=\"https://colab.research.google.com/github/marconiprojects/CalculoNumerico/blob/main/desvioCondicional.ipynb\" target=\"_parent\"><img src=\"https://colab.research.google.com/assets/colab-badge.svg\" alt=\"Open In Colab\"/></a>"
      ]
    },
    {
      "cell_type": "code",
      "execution_count": null,
      "metadata": {
        "colab": {
          "base_uri": "https://localhost:8080/"
        },
        "id": "m6fc5tWvqLjx",
        "outputId": "67d4b649-02df-4b30-f990-a3cb00cf3c03"
      },
      "outputs": [
        {
          "output_type": "stream",
          "name": "stdout",
          "text": [
            "Digite o primeiro numero: 10\n",
            "Digite o segundo numero: 20\n",
            "Digite o operador (+ ou -): -\n",
            "10  -  20  =  -10\n"
          ]
        }
      ],
      "source": [
        "primeiroNumero = 0\n",
        "segundoNumero = 0\n",
        "primeiroNumero = int(input('Digite o primeiro numero: '))\n",
        "segundoNumero = int(input('Digite o segundo numero: '))\n",
        "operador = input('Digite o operador (+ ou -): ')\n",
        "\n",
        "if (operador == '+'):\n",
        "  soma = primeiroNumero + segundoNumero\n",
        "  print(primeiroNumero, ' + ', segundoNumero, ' = ', soma)\n",
        "else:\n",
        "  diferenca = primeiroNumero - segundoNumero\n",
        "  print(primeiroNumero, ' - ', segundoNumero, ' = ', diferenca)"
      ]
    }
  ]
}