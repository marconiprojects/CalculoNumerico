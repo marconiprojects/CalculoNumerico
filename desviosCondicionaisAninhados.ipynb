{
  "nbformat": 4,
  "nbformat_minor": 0,
  "metadata": {
    "colab": {
      "name": "desviosCondicionaisAninhados.ipynb",
      "provenance": [],
      "authorship_tag": "ABX9TyP/x4kJ2MrpEwmWAcirZVu2",
      "include_colab_link": true
    },
    "kernelspec": {
      "name": "python3",
      "display_name": "Python 3"
    },
    "language_info": {
      "name": "python"
    }
  },
  "cells": [
    {
      "cell_type": "markdown",
      "metadata": {
        "id": "view-in-github",
        "colab_type": "text"
      },
      "source": [
        "<a href=\"https://colab.research.google.com/github/marconiprojects/CalculoNumerico/blob/main/desviosCondicionaisAninhados.ipynb\" target=\"_parent\"><img src=\"https://colab.research.google.com/assets/colab-badge.svg\" alt=\"Open In Colab\"/></a>"
      ]
    },
    {
      "cell_type": "code",
      "execution_count": null,
      "metadata": {
        "colab": {
          "base_uri": "https://localhost:8080/"
        },
        "id": "Z6P3RyT1tU7o",
        "outputId": "8dd43298-7980-43ac-b402-d5496a081783"
      },
      "outputs": [
        {
          "output_type": "stream",
          "name": "stdout",
          "text": [
            "Digite o primeiro numero: 10\n",
            "Digite o segundo numero: 20\n",
            "Digite o operador (+, -, *, /): k\n",
            "operador desconhecido\n"
          ]
        }
      ],
      "source": [
        "primeiroNumero = 0\n",
        "segundoNumero = 0\n",
        "primeiroNumero = int(input('Digite o primeiro numero: '))\n",
        "segundoNumero = int(input('Digite o segundo numero: '))\n",
        "operador = input('Digite o operador (+, -, *, /): ')\n",
        "\n",
        "if (operador == '+'):\n",
        "  soma = primeiroNumero + segundoNumero\n",
        "  print(primeiroNumero, ' + ', segundoNumero, ' = ', soma)\n",
        "elif (operador == '-'):\n",
        "  diferenca = primeiroNumero - segundoNumero\n",
        "  print(primeiroNumero, ' - ', segundoNumero, ' = ', diferenca)\n",
        "elif (operador == '*'):\n",
        "  produto = primeiroNumero * segundoNumero\n",
        "  print(primeiroNumero, ' * ', segundoNumero, ' = ', produto)\n",
        "elif (operador == '/'):\n",
        "  divisao = primeiroNumero / segundoNumero\n",
        "  print(primeiroNumero, ' / ', segundoNumero, ' = ', divisao)\n",
        "else:\n",
        "  print('operador desconhecido') "
      ]
    }
  ]
}