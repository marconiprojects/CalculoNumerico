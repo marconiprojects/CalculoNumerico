{
  "nbformat": 4,
  "nbformat_minor": 0,
  "metadata": {
    "colab": {
      "name": "EstruturaRepeticaoWhile_versao2.ipynb",
      "provenance": [],
      "authorship_tag": "ABX9TyMBxgnP7TRpyZjpKQqD4vCI",
      "include_colab_link": true
    },
    "kernelspec": {
      "name": "python3",
      "display_name": "Python 3"
    },
    "language_info": {
      "name": "python"
    }
  },
  "cells": [
    {
      "cell_type": "markdown",
      "metadata": {
        "id": "view-in-github",
        "colab_type": "text"
      },
      "source": [
        "<a href=\"https://colab.research.google.com/github/marconiprojects/CalculoNumerico/blob/main/EstruturaRepeticaoWhile_versao2.ipynb\" target=\"_parent\"><img src=\"https://colab.research.google.com/assets/colab-badge.svg\" alt=\"Open In Colab\"/></a>"
      ]
    },
    {
      "cell_type": "code",
      "execution_count": 5,
      "metadata": {
        "colab": {
          "base_uri": "https://localhost:8080/"
        },
        "id": "Kmtt-CpKS6Zd",
        "outputId": "4c222998-b713-4fb1-b57a-d19956adc760"
      },
      "outputs": [
        {
          "name": "stdout",
          "output_type": "stream",
          "text": [
            "Digite o primeiro numero: 21\n",
            "Digite o segundo numero: 10\n",
            "Digite um operador (+, -, *, /) ou 's' para sair: +\n",
            "21  +  10  =  31\n",
            "Digite o primeiro numero: 15\n",
            "Digite o segundo numero: 25\n",
            "Digite um operador (+, -, *, /) ou 's' para sair: s\n"
          ]
        }
      ],
      "source": [
        "def obtemValores():\n",
        "  primeiroNumero = int(input('Digite o primeiro numero: '))\n",
        "  segundoNumero = int(input('Digite o segundo numero: '))\n",
        "  operador = input('Digite um operador (+, -, *, /) ou \\'s\\' para sair: ')\n",
        "  retorno = [primeiroNumero, segundoNumero, operador]\n",
        "  return retorno\n",
        "\n",
        "operadores = obtemValores()\n",
        "primeiroNumero = operadores[0]\n",
        "segundoNumero = operadores[1]\n",
        "operador = operadores[2]\n",
        "while operador != 's':\n",
        "  if (operador == '+'):\n",
        "    soma = primeiroNumero + segundoNumero\n",
        "    print(primeiroNumero, ' + ', segundoNumero, ' = ', soma)\n",
        "  elif (operador == '-'):\n",
        "    diferenca = primeiroNumero - segundoNumero\n",
        "    print(primeiroNumero, ' - ', segundoNumero, ' = ', diferenca)\n",
        "  elif (operador == '*'):\n",
        "    produto = primeiroNumero * segundoNumero\n",
        "    print(primeiroNumero, ' * ', segundoNumero, ' = ', produto)\n",
        "  elif (operador == '/'):\n",
        "    divisao = primeiroNumero / segundoNumero\n",
        "    print(primeiroNumero, ' / ', segundoNumero, ' = ', divisao)\n",
        "  # note que não usamos um 'else'\n",
        "  operadores = obtemValores()\n",
        "  \n",
        "  primeiroNumero = operadores[0]\n",
        "  segundoNumero = operadores[1]\n",
        "  operador = operadores[2]"
      ]
    }
  ]
}