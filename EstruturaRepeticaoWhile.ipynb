{
  "nbformat": 4,
  "nbformat_minor": 0,
  "metadata": {
    "colab": {
      "name": "EstruturaRepeticaoWhile.ipynb",
      "provenance": [],
      "authorship_tag": "ABX9TyM5YcTV/33I5RA+7rtPnphj",
      "include_colab_link": true
    },
    "kernelspec": {
      "name": "python3",
      "display_name": "Python 3"
    },
    "language_info": {
      "name": "python"
    }
  },
  "cells": [
    {
      "cell_type": "markdown",
      "metadata": {
        "id": "view-in-github",
        "colab_type": "text"
      },
      "source": [
        "<a href=\"https://colab.research.google.com/github/marconiprojects/CalculoNumerico/blob/main/EstruturaRepeticaoWhile.ipynb\" target=\"_parent\"><img src=\"https://colab.research.google.com/assets/colab-badge.svg\" alt=\"Open In Colab\"/></a>"
      ]
    },
    {
      "cell_type": "code",
      "execution_count": 4,
      "metadata": {
        "colab": {
          "base_uri": "https://localhost:8080/"
        },
        "id": "8GD365-IuTzx",
        "outputId": "015068a1-165b-4642-c6ee-98cc09682f5c"
      },
      "outputs": [
        {
          "name": "stdout",
          "output_type": "stream",
          "text": [
            "Digite o primeiro numero: 10\n",
            "Digite o segundo numero: 20\n",
            "Digite um operador (+, -, *, /) ou 's' para sair: +\n",
            "10  +  20  =  30\n",
            "Digite o primeiro numero: 20\n",
            "Digite o segundo numero: 30\n",
            "Digite um operador (+, -, *, /) ou 's' para sair: /\n",
            "20  /  30  =  0.6666666666666666\n",
            "Digite o primeiro numero: 30\n",
            "Digite o segundo numero: 40\n",
            "Digite um operador (+, -, *, /) ou 's' para sair: l\n",
            "Digite o primeiro numero: 10\n",
            "Digite o segundo numero: 54\n",
            "Digite um operador (+, -, *, /) ou 's' para sair: s\n"
          ]
        }
      ],
      "source": [
        "primeiroNumero = 0\n",
        "segundoNumero = 0\n",
        "primeiroNumero = int(input('Digite o primeiro numero: '))\n",
        "segundoNumero = int(input('Digite o segundo numero: '))\n",
        "operador = input('Digite um operador (+, -, *, /) ou \\'s\\' para sair: ')\n",
        "\n",
        "while operador != 's':\n",
        "  if (operador == '+'):\n",
        "    soma = primeiroNumero + segundoNumero\n",
        "    print(primeiroNumero, ' + ', segundoNumero, ' = ', soma)\n",
        "  elif (operador == '-'):\n",
        "    diferenca = primeiroNumero - segundoNumero\n",
        "    print(primeiroNumero, ' - ', segundoNumero, ' = ', diferenca)\n",
        "  elif (operador == '*'):\n",
        "    produto = primeiroNumero * segundoNumero\n",
        "    print(primeiroNumero, ' * ', segundoNumero, ' = ', produto)\n",
        "  elif (operador == '/'):\n",
        "    divisao = primeiroNumero / segundoNumero\n",
        "    print(primeiroNumero, ' / ', segundoNumero, ' = ', divisao)\n",
        "  # note que não usamos um 'else'\n",
        "  primeiroNumero = int(input('Digite o primeiro numero: '))\n",
        "  segundoNumero = int(input('Digite o segundo numero: '))\n",
        "  operador = input('Digite um operador (+, -, *, /) ou \\'s\\' para sair: ')"
      ]
    }
  ]
}